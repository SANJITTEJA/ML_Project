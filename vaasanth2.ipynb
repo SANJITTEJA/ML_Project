{
  "nbformat": 4,
  "nbformat_minor": 0,
  "metadata": {
    "colab": {
      "provenance": []
    },
    "kernelspec": {
      "name": "python3",
      "display_name": "Python 3"
    },
    "language_info": {
      "name": "python"
    }
  },
  "cells": [
    {
      "cell_type": "code",
      "execution_count": null,
      "metadata": {
        "id": "Tj5RlUF3Fb8w"
      },
      "outputs": [],
      "source": [
        "import seaborn as sns\n",
        "import matplotlib.pyplot as plt\n",
        "\n",
        "import pandas as pd\n",
        "import numpy as np\n"
      ]
    },
    {
      "cell_type": "code",
      "source": [
        "df = pd.read_csv('/content/Attrition_data.csv')\n",
        "df.head()"
      ],
      "metadata": {
        "colab": {
          "base_uri": "https://localhost:8080/",
          "height": 449
        },
        "id": "OgKAxDHAFn5S",
        "outputId": "059aed3f-0647-4006-c012-349ddaf094bf"
      },
      "execution_count": null,
      "outputs": [
        {
          "output_type": "execute_result",
          "data": {
            "text/plain": [
              "   S.No    EmpID Emp Name        DOJ                 Designation Grade  \\\n",
              "0     1  XYZ2685     ABC1  22-Nov-10             Sales Executive    E1   \n",
              "1     2  XYZ2490     ABC2  05-Jul-10  Technical Services Officer    M2   \n",
              "2     3  XYZ2662     ABC3  20-Oct-10             Sales Executive    E1   \n",
              "3     4  XYZ1679     ABC4  01-May-08                  AM - Sales    M1   \n",
              "4     5  XYZ2378     ABC5  03-Mar-10            Sales Executive     E1   \n",
              "\n",
              "  Attrition        Location In Active Date  Tenure  Gender  Education  Age  \\\n",
              "0        Yes      Bhavnagar      26-May-12   1. 6   Female  Bachelors   27   \n",
              "1        Yes      Jayanagar      06-Apr-12   1. 9     Male        MBA   36   \n",
              "2        Yes         Indore      07-Apr-12   1. 5     Male  Bachelors   24   \n",
              "3        Yes  Admin Gujarat      03-Apr-12  3 .11     Male  Bachelors   33   \n",
              "4        Yes   Jagdishpuram      10-Apr-12   2 .1     Male  Bachelors   24   \n",
              "\n",
              "   Last Rating  Monthly Income Engagement Score (% Satisfaction)  \\\n",
              "0            4           25535                                2%   \n",
              "1            2           52155                               45%   \n",
              "2            4           26438                               18%   \n",
              "3            2           54311                               82%   \n",
              "4            4           26702                               49%   \n",
              "\n",
              "  Marital Status     Zone                                         Remarks  \n",
              "0       Divorced     West                         Issues with the Manager  \n",
              "1        Single     South  More Challenging Job Roles/ Higher designation  \n",
              "2       Divorced  CENTRAL                         Issues with the Manager  \n",
              "3        Single      West                                  Lack of Growth  \n",
              "4       Divorced    North                         Issues with the Manager  "
            ],
            "text/html": [
              "\n",
              "  <div id=\"df-6503ce52-53bd-4041-af74-b5a997afdc41\" class=\"colab-df-container\">\n",
              "    <div>\n",
              "<style scoped>\n",
              "    .dataframe tbody tr th:only-of-type {\n",
              "        vertical-align: middle;\n",
              "    }\n",
              "\n",
              "    .dataframe tbody tr th {\n",
              "        vertical-align: top;\n",
              "    }\n",
              "\n",
              "    .dataframe thead th {\n",
              "        text-align: right;\n",
              "    }\n",
              "</style>\n",
              "<table border=\"1\" class=\"dataframe\">\n",
              "  <thead>\n",
              "    <tr style=\"text-align: right;\">\n",
              "      <th></th>\n",
              "      <th>S.No</th>\n",
              "      <th>EmpID</th>\n",
              "      <th>Emp Name</th>\n",
              "      <th>DOJ</th>\n",
              "      <th>Designation</th>\n",
              "      <th>Grade</th>\n",
              "      <th>Attrition</th>\n",
              "      <th>Location</th>\n",
              "      <th>In Active Date</th>\n",
              "      <th>Tenure</th>\n",
              "      <th>Gender</th>\n",
              "      <th>Education</th>\n",
              "      <th>Age</th>\n",
              "      <th>Last Rating</th>\n",
              "      <th>Monthly Income</th>\n",
              "      <th>Engagement Score (% Satisfaction)</th>\n",
              "      <th>Marital Status</th>\n",
              "      <th>Zone</th>\n",
              "      <th>Remarks</th>\n",
              "    </tr>\n",
              "  </thead>\n",
              "  <tbody>\n",
              "    <tr>\n",
              "      <th>0</th>\n",
              "      <td>1</td>\n",
              "      <td>XYZ2685</td>\n",
              "      <td>ABC1</td>\n",
              "      <td>22-Nov-10</td>\n",
              "      <td>Sales Executive</td>\n",
              "      <td>E1</td>\n",
              "      <td>Yes</td>\n",
              "      <td>Bhavnagar</td>\n",
              "      <td>26-May-12</td>\n",
              "      <td>1. 6</td>\n",
              "      <td>Female</td>\n",
              "      <td>Bachelors</td>\n",
              "      <td>27</td>\n",
              "      <td>4</td>\n",
              "      <td>25535</td>\n",
              "      <td>2%</td>\n",
              "      <td>Divorced</td>\n",
              "      <td>West</td>\n",
              "      <td>Issues with the Manager</td>\n",
              "    </tr>\n",
              "    <tr>\n",
              "      <th>1</th>\n",
              "      <td>2</td>\n",
              "      <td>XYZ2490</td>\n",
              "      <td>ABC2</td>\n",
              "      <td>05-Jul-10</td>\n",
              "      <td>Technical Services Officer</td>\n",
              "      <td>M2</td>\n",
              "      <td>Yes</td>\n",
              "      <td>Jayanagar</td>\n",
              "      <td>06-Apr-12</td>\n",
              "      <td>1. 9</td>\n",
              "      <td>Male</td>\n",
              "      <td>MBA</td>\n",
              "      <td>36</td>\n",
              "      <td>2</td>\n",
              "      <td>52155</td>\n",
              "      <td>45%</td>\n",
              "      <td>Single</td>\n",
              "      <td>South</td>\n",
              "      <td>More Challenging Job Roles/ Higher designation</td>\n",
              "    </tr>\n",
              "    <tr>\n",
              "      <th>2</th>\n",
              "      <td>3</td>\n",
              "      <td>XYZ2662</td>\n",
              "      <td>ABC3</td>\n",
              "      <td>20-Oct-10</td>\n",
              "      <td>Sales Executive</td>\n",
              "      <td>E1</td>\n",
              "      <td>Yes</td>\n",
              "      <td>Indore</td>\n",
              "      <td>07-Apr-12</td>\n",
              "      <td>1. 5</td>\n",
              "      <td>Male</td>\n",
              "      <td>Bachelors</td>\n",
              "      <td>24</td>\n",
              "      <td>4</td>\n",
              "      <td>26438</td>\n",
              "      <td>18%</td>\n",
              "      <td>Divorced</td>\n",
              "      <td>CENTRAL</td>\n",
              "      <td>Issues with the Manager</td>\n",
              "    </tr>\n",
              "    <tr>\n",
              "      <th>3</th>\n",
              "      <td>4</td>\n",
              "      <td>XYZ1679</td>\n",
              "      <td>ABC4</td>\n",
              "      <td>01-May-08</td>\n",
              "      <td>AM - Sales</td>\n",
              "      <td>M1</td>\n",
              "      <td>Yes</td>\n",
              "      <td>Admin Gujarat</td>\n",
              "      <td>03-Apr-12</td>\n",
              "      <td>3 .11</td>\n",
              "      <td>Male</td>\n",
              "      <td>Bachelors</td>\n",
              "      <td>33</td>\n",
              "      <td>2</td>\n",
              "      <td>54311</td>\n",
              "      <td>82%</td>\n",
              "      <td>Single</td>\n",
              "      <td>West</td>\n",
              "      <td>Lack of Growth</td>\n",
              "    </tr>\n",
              "    <tr>\n",
              "      <th>4</th>\n",
              "      <td>5</td>\n",
              "      <td>XYZ2378</td>\n",
              "      <td>ABC5</td>\n",
              "      <td>03-Mar-10</td>\n",
              "      <td>Sales Executive</td>\n",
              "      <td>E1</td>\n",
              "      <td>Yes</td>\n",
              "      <td>Jagdishpuram</td>\n",
              "      <td>10-Apr-12</td>\n",
              "      <td>2 .1</td>\n",
              "      <td>Male</td>\n",
              "      <td>Bachelors</td>\n",
              "      <td>24</td>\n",
              "      <td>4</td>\n",
              "      <td>26702</td>\n",
              "      <td>49%</td>\n",
              "      <td>Divorced</td>\n",
              "      <td>North</td>\n",
              "      <td>Issues with the Manager</td>\n",
              "    </tr>\n",
              "  </tbody>\n",
              "</table>\n",
              "</div>\n",
              "    <div class=\"colab-df-buttons\">\n",
              "\n",
              "  <div class=\"colab-df-container\">\n",
              "    <button class=\"colab-df-convert\" onclick=\"convertToInteractive('df-6503ce52-53bd-4041-af74-b5a997afdc41')\"\n",
              "            title=\"Convert this dataframe to an interactive table.\"\n",
              "            style=\"display:none;\">\n",
              "\n",
              "  <svg xmlns=\"http://www.w3.org/2000/svg\" height=\"24px\" viewBox=\"0 -960 960 960\">\n",
              "    <path d=\"M120-120v-720h720v720H120Zm60-500h600v-160H180v160Zm220 220h160v-160H400v160Zm0 220h160v-160H400v160ZM180-400h160v-160H180v160Zm440 0h160v-160H620v160ZM180-180h160v-160H180v160Zm440 0h160v-160H620v160Z\"/>\n",
              "  </svg>\n",
              "    </button>\n",
              "\n",
              "  <style>\n",
              "    .colab-df-container {\n",
              "      display:flex;\n",
              "      gap: 12px;\n",
              "    }\n",
              "\n",
              "    .colab-df-convert {\n",
              "      background-color: #E8F0FE;\n",
              "      border: none;\n",
              "      border-radius: 50%;\n",
              "      cursor: pointer;\n",
              "      display: none;\n",
              "      fill: #1967D2;\n",
              "      height: 32px;\n",
              "      padding: 0 0 0 0;\n",
              "      width: 32px;\n",
              "    }\n",
              "\n",
              "    .colab-df-convert:hover {\n",
              "      background-color: #E2EBFA;\n",
              "      box-shadow: 0px 1px 2px rgba(60, 64, 67, 0.3), 0px 1px 3px 1px rgba(60, 64, 67, 0.15);\n",
              "      fill: #174EA6;\n",
              "    }\n",
              "\n",
              "    .colab-df-buttons div {\n",
              "      margin-bottom: 4px;\n",
              "    }\n",
              "\n",
              "    [theme=dark] .colab-df-convert {\n",
              "      background-color: #3B4455;\n",
              "      fill: #D2E3FC;\n",
              "    }\n",
              "\n",
              "    [theme=dark] .colab-df-convert:hover {\n",
              "      background-color: #434B5C;\n",
              "      box-shadow: 0px 1px 3px 1px rgba(0, 0, 0, 0.15);\n",
              "      filter: drop-shadow(0px 1px 2px rgba(0, 0, 0, 0.3));\n",
              "      fill: #FFFFFF;\n",
              "    }\n",
              "  </style>\n",
              "\n",
              "    <script>\n",
              "      const buttonEl =\n",
              "        document.querySelector('#df-6503ce52-53bd-4041-af74-b5a997afdc41 button.colab-df-convert');\n",
              "      buttonEl.style.display =\n",
              "        google.colab.kernel.accessAllowed ? 'block' : 'none';\n",
              "\n",
              "      async function convertToInteractive(key) {\n",
              "        const element = document.querySelector('#df-6503ce52-53bd-4041-af74-b5a997afdc41');\n",
              "        const dataTable =\n",
              "          await google.colab.kernel.invokeFunction('convertToInteractive',\n",
              "                                                    [key], {});\n",
              "        if (!dataTable) return;\n",
              "\n",
              "        const docLinkHtml = 'Like what you see? Visit the ' +\n",
              "          '<a target=\"_blank\" href=https://colab.research.google.com/notebooks/data_table.ipynb>data table notebook</a>'\n",
              "          + ' to learn more about interactive tables.';\n",
              "        element.innerHTML = '';\n",
              "        dataTable['output_type'] = 'display_data';\n",
              "        await google.colab.output.renderOutput(dataTable, element);\n",
              "        const docLink = document.createElement('div');\n",
              "        docLink.innerHTML = docLinkHtml;\n",
              "        element.appendChild(docLink);\n",
              "      }\n",
              "    </script>\n",
              "  </div>\n",
              "\n",
              "\n",
              "<div id=\"df-6df6c6f2-a256-457a-8f17-ecee493f56c5\">\n",
              "  <button class=\"colab-df-quickchart\" onclick=\"quickchart('df-6df6c6f2-a256-457a-8f17-ecee493f56c5')\"\n",
              "            title=\"Suggest charts\"\n",
              "            style=\"display:none;\">\n",
              "\n",
              "<svg xmlns=\"http://www.w3.org/2000/svg\" height=\"24px\"viewBox=\"0 0 24 24\"\n",
              "     width=\"24px\">\n",
              "    <g>\n",
              "        <path d=\"M19 3H5c-1.1 0-2 .9-2 2v14c0 1.1.9 2 2 2h14c1.1 0 2-.9 2-2V5c0-1.1-.9-2-2-2zM9 17H7v-7h2v7zm4 0h-2V7h2v10zm4 0h-2v-4h2v4z\"/>\n",
              "    </g>\n",
              "</svg>\n",
              "  </button>\n",
              "\n",
              "<style>\n",
              "  .colab-df-quickchart {\n",
              "      --bg-color: #E8F0FE;\n",
              "      --fill-color: #1967D2;\n",
              "      --hover-bg-color: #E2EBFA;\n",
              "      --hover-fill-color: #174EA6;\n",
              "      --disabled-fill-color: #AAA;\n",
              "      --disabled-bg-color: #DDD;\n",
              "  }\n",
              "\n",
              "  [theme=dark] .colab-df-quickchart {\n",
              "      --bg-color: #3B4455;\n",
              "      --fill-color: #D2E3FC;\n",
              "      --hover-bg-color: #434B5C;\n",
              "      --hover-fill-color: #FFFFFF;\n",
              "      --disabled-bg-color: #3B4455;\n",
              "      --disabled-fill-color: #666;\n",
              "  }\n",
              "\n",
              "  .colab-df-quickchart {\n",
              "    background-color: var(--bg-color);\n",
              "    border: none;\n",
              "    border-radius: 50%;\n",
              "    cursor: pointer;\n",
              "    display: none;\n",
              "    fill: var(--fill-color);\n",
              "    height: 32px;\n",
              "    padding: 0;\n",
              "    width: 32px;\n",
              "  }\n",
              "\n",
              "  .colab-df-quickchart:hover {\n",
              "    background-color: var(--hover-bg-color);\n",
              "    box-shadow: 0 1px 2px rgba(60, 64, 67, 0.3), 0 1px 3px 1px rgba(60, 64, 67, 0.15);\n",
              "    fill: var(--button-hover-fill-color);\n",
              "  }\n",
              "\n",
              "  .colab-df-quickchart-complete:disabled,\n",
              "  .colab-df-quickchart-complete:disabled:hover {\n",
              "    background-color: var(--disabled-bg-color);\n",
              "    fill: var(--disabled-fill-color);\n",
              "    box-shadow: none;\n",
              "  }\n",
              "\n",
              "  .colab-df-spinner {\n",
              "    border: 2px solid var(--fill-color);\n",
              "    border-color: transparent;\n",
              "    border-bottom-color: var(--fill-color);\n",
              "    animation:\n",
              "      spin 1s steps(1) infinite;\n",
              "  }\n",
              "\n",
              "  @keyframes spin {\n",
              "    0% {\n",
              "      border-color: transparent;\n",
              "      border-bottom-color: var(--fill-color);\n",
              "      border-left-color: var(--fill-color);\n",
              "    }\n",
              "    20% {\n",
              "      border-color: transparent;\n",
              "      border-left-color: var(--fill-color);\n",
              "      border-top-color: var(--fill-color);\n",
              "    }\n",
              "    30% {\n",
              "      border-color: transparent;\n",
              "      border-left-color: var(--fill-color);\n",
              "      border-top-color: var(--fill-color);\n",
              "      border-right-color: var(--fill-color);\n",
              "    }\n",
              "    40% {\n",
              "      border-color: transparent;\n",
              "      border-right-color: var(--fill-color);\n",
              "      border-top-color: var(--fill-color);\n",
              "    }\n",
              "    60% {\n",
              "      border-color: transparent;\n",
              "      border-right-color: var(--fill-color);\n",
              "    }\n",
              "    80% {\n",
              "      border-color: transparent;\n",
              "      border-right-color: var(--fill-color);\n",
              "      border-bottom-color: var(--fill-color);\n",
              "    }\n",
              "    90% {\n",
              "      border-color: transparent;\n",
              "      border-bottom-color: var(--fill-color);\n",
              "    }\n",
              "  }\n",
              "</style>\n",
              "\n",
              "  <script>\n",
              "    async function quickchart(key) {\n",
              "      const quickchartButtonEl =\n",
              "        document.querySelector('#' + key + ' button');\n",
              "      quickchartButtonEl.disabled = true;  // To prevent multiple clicks.\n",
              "      quickchartButtonEl.classList.add('colab-df-spinner');\n",
              "      try {\n",
              "        const charts = await google.colab.kernel.invokeFunction(\n",
              "            'suggestCharts', [key], {});\n",
              "      } catch (error) {\n",
              "        console.error('Error during call to suggestCharts:', error);\n",
              "      }\n",
              "      quickchartButtonEl.classList.remove('colab-df-spinner');\n",
              "      quickchartButtonEl.classList.add('colab-df-quickchart-complete');\n",
              "    }\n",
              "    (() => {\n",
              "      let quickchartButtonEl =\n",
              "        document.querySelector('#df-6df6c6f2-a256-457a-8f17-ecee493f56c5 button');\n",
              "      quickchartButtonEl.style.display =\n",
              "        google.colab.kernel.accessAllowed ? 'block' : 'none';\n",
              "    })();\n",
              "  </script>\n",
              "</div>\n",
              "\n",
              "    </div>\n",
              "  </div>\n"
            ],
            "application/vnd.google.colaboratory.intrinsic+json": {
              "type": "dataframe",
              "variable_name": "df",
              "summary": "{\n  \"name\": \"df\",\n  \"rows\": 327,\n  \"fields\": [\n    {\n      \"column\": \"S.No\",\n      \"properties\": {\n        \"dtype\": \"number\",\n        \"std\": 94,\n        \"min\": 1,\n        \"max\": 327,\n        \"num_unique_values\": 327,\n        \"samples\": [\n          232,\n          111,\n          251\n        ],\n        \"semantic_type\": \"\",\n        \"description\": \"\"\n      }\n    },\n    {\n      \"column\": \"EmpID\",\n      \"properties\": {\n        \"dtype\": \"string\",\n        \"num_unique_values\": 325,\n        \"samples\": [\n          \"XYZ2841\",\n          \"XYZ2338\",\n          \"XYZ3148\"\n        ],\n        \"semantic_type\": \"\",\n        \"description\": \"\"\n      }\n    },\n    {\n      \"column\": \"Emp Name\",\n      \"properties\": {\n        \"dtype\": \"string\",\n        \"num_unique_values\": 327,\n        \"samples\": [\n          \"ABC232\",\n          \"ABC111\",\n          \"ABC251\"\n        ],\n        \"semantic_type\": \"\",\n        \"description\": \"\"\n      }\n    },\n    {\n      \"column\": \"DOJ\",\n      \"properties\": {\n        \"dtype\": \"object\",\n        \"num_unique_values\": 239,\n        \"samples\": [\n          \"12-May-08\",\n          \"07-Feb-11\",\n          \"09-May-12\"\n        ],\n        \"semantic_type\": \"\",\n        \"description\": \"\"\n      }\n    },\n    {\n      \"column\": \"Designation\",\n      \"properties\": {\n        \"dtype\": \"category\",\n        \"num_unique_values\": 10,\n        \"samples\": [\n          \"Zonal Manager\",\n          \"Technical Services Officer\",\n          \"Sr Sales Executive \"\n        ],\n        \"semantic_type\": \"\",\n        \"description\": \"\"\n      }\n    },\n    {\n      \"column\": \"Grade\",\n      \"properties\": {\n        \"dtype\": \"category\",\n        \"num_unique_values\": 7,\n        \"samples\": [\n          \"E1\",\n          \"M2\",\n          \"M4\"\n        ],\n        \"semantic_type\": \"\",\n        \"description\": \"\"\n      }\n    },\n    {\n      \"column\": \"Attrition \",\n      \"properties\": {\n        \"dtype\": \"category\",\n        \"num_unique_values\": 1,\n        \"samples\": [\n          \"Yes\"\n        ],\n        \"semantic_type\": \"\",\n        \"description\": \"\"\n      }\n    },\n    {\n      \"column\": \"Location\",\n      \"properties\": {\n        \"dtype\": \"category\",\n        \"num_unique_values\": 140,\n        \"samples\": [\n          \"Anand\"\n        ],\n        \"semantic_type\": \"\",\n        \"description\": \"\"\n      }\n    },\n    {\n      \"column\": \"In Active Date\",\n      \"properties\": {\n        \"dtype\": \"object\",\n        \"num_unique_values\": 183,\n        \"samples\": [\n          \"16-May-12\"\n        ],\n        \"semantic_type\": \"\",\n        \"description\": \"\"\n      }\n    },\n    {\n      \"column\": \"Tenure\",\n      \"properties\": {\n        \"dtype\": \"category\",\n        \"num_unique_values\": 73,\n        \"samples\": [\n          \"2 .1 \"\n        ],\n        \"semantic_type\": \"\",\n        \"description\": \"\"\n      }\n    },\n    {\n      \"column\": \"Gender\",\n      \"properties\": {\n        \"dtype\": \"category\",\n        \"num_unique_values\": 2,\n        \"samples\": [\n          \"Male\"\n        ],\n        \"semantic_type\": \"\",\n        \"description\": \"\"\n      }\n    },\n    {\n      \"column\": \"Education\",\n      \"properties\": {\n        \"dtype\": \"category\",\n        \"num_unique_values\": 2,\n        \"samples\": [\n          \"MBA\"\n        ],\n        \"semantic_type\": \"\",\n        \"description\": \"\"\n      }\n    },\n    {\n      \"column\": \"Age\",\n      \"properties\": {\n        \"dtype\": \"number\",\n        \"std\": 5,\n        \"min\": 24,\n        \"max\": 54,\n        \"num_unique_values\": 23,\n        \"samples\": [\n          31\n        ],\n        \"semantic_type\": \"\",\n        \"description\": \"\"\n      }\n    },\n    {\n      \"column\": \"Last Rating\",\n      \"properties\": {\n        \"dtype\": \"number\",\n        \"std\": 1,\n        \"min\": 1,\n        \"max\": 5,\n        \"num_unique_values\": 5,\n        \"samples\": [\n          2\n        ],\n        \"semantic_type\": \"\",\n        \"description\": \"\"\n      }\n    },\n    {\n      \"column\": \"Monthly Income\",\n      \"properties\": {\n        \"dtype\": \"number\",\n        \"std\": 15995,\n        \"min\": 25010,\n        \"max\": 233954,\n        \"num_unique_values\": 317,\n        \"samples\": [\n          50129\n        ],\n        \"semantic_type\": \"\",\n        \"description\": \"\"\n      }\n    },\n    {\n      \"column\": \"Engagement Score (% Satisfaction)\",\n      \"properties\": {\n        \"dtype\": \"category\",\n        \"num_unique_values\": 98,\n        \"samples\": [\n          \"25%\"\n        ],\n        \"semantic_type\": \"\",\n        \"description\": \"\"\n      }\n    },\n    {\n      \"column\": \"Marital Status\",\n      \"properties\": {\n        \"dtype\": \"category\",\n        \"num_unique_values\": 3,\n        \"samples\": [\n          \"Divorced\"\n        ],\n        \"semantic_type\": \"\",\n        \"description\": \"\"\n      }\n    },\n    {\n      \"column\": \"Zone\",\n      \"properties\": {\n        \"dtype\": \"category\",\n        \"num_unique_values\": 9,\n        \"samples\": [\n          \"HO\"\n        ],\n        \"semantic_type\": \"\",\n        \"description\": \"\"\n      }\n    },\n    {\n      \"column\": \"Remarks\",\n      \"properties\": {\n        \"dtype\": \"category\",\n        \"num_unique_values\": 10,\n        \"samples\": [\n          \"Health Reasons\"\n        ],\n        \"semantic_type\": \"\",\n        \"description\": \"\"\n      }\n    }\n  ]\n}"
            }
          },
          "metadata": {},
          "execution_count": 860
        }
      ]
    },
    {
      "cell_type": "code",
      "source": [
        "import pandas as pd\n",
        "\n",
        "\n",
        "\n",
        "df['DOJ'] = pd.to_datetime(df['DOJ'], dayfirst=True, errors='coerce')\n",
        "df['day1'] = df['DOJ'].dt.day\n",
        "df['month1'] = df['DOJ'].dt.month_name()\n",
        "df['year1'] = df['DOJ'].dt.year\n",
        "df.drop('DOJ', axis=1, inplace=True)\n"
      ],
      "metadata": {
        "id": "dY933sbwHWCA"
      },
      "execution_count": null,
      "outputs": []
    },
    {
      "cell_type": "code",
      "source": [
        "df['In Active Date'] = pd.to_datetime(df['In Active Date'], dayfirst=True, errors='coerce')\n",
        "df['day2'] = df['In Active Date'].dt.day\n",
        "df['month2'] = df['In Active Date'].dt.month_name()\n",
        "df['year2'] = df['In Active Date'].dt.year\n",
        "df.drop('In Active Date', axis=1, inplace=True)\n"
      ],
      "metadata": {
        "id": "zCHy4dZyOA8I"
      },
      "execution_count": null,
      "outputs": []
    },
    {
      "cell_type": "code",
      "source": [
        "df['Remarks'].value_counts()"
      ],
      "metadata": {
        "colab": {
          "base_uri": "https://localhost:8080/"
        },
        "id": "9aln6DodFyWq",
        "outputId": "c78abb7d-e39f-429f-e9a8-f5374ef96dfa"
      },
      "execution_count": null,
      "outputs": [
        {
          "output_type": "execute_result",
          "data": {
            "text/plain": [
              "Remarks\n",
              "Issues with the Manager                           145\n",
              "Lack of Growth                                     96\n",
              "More Challenging Job Roles/ Higher designation     31\n",
              "Better Salary                                      19\n",
              "Termination - Poor Performance                     13\n",
              "Absconding                                          8\n",
              "Termination - Theft                                 6\n",
              "Health Reasons                                      4\n",
              "Higher education                                    3\n",
              "Reasons not known                                   2\n",
              "Name: count, dtype: int64"
            ]
          },
          "metadata": {},
          "execution_count": 863
        }
      ]
    },
    {
      "cell_type": "code",
      "source": [
        "df.shape"
      ],
      "metadata": {
        "colab": {
          "base_uri": "https://localhost:8080/"
        },
        "id": "P0rhV2VDSfp4",
        "outputId": "acd763bb-a260-487e-c251-f5f24e1a1e9c"
      },
      "execution_count": null,
      "outputs": [
        {
          "output_type": "execute_result",
          "data": {
            "text/plain": [
              "(327, 23)"
            ]
          },
          "metadata": {},
          "execution_count": 864
        }
      ]
    },
    {
      "cell_type": "code",
      "source": [
        "value_counts = df['Remarks'].value_counts()\n",
        "\n",
        "threshold = len(df) * 0.05\n",
        "\n",
        "filtered_value_counts = value_counts[value_counts >= threshold]\n",
        "df = df[df['Remarks'].isin(filtered_value_counts.index)]"
      ],
      "metadata": {
        "id": "QNx11fpXSaN9"
      },
      "execution_count": null,
      "outputs": []
    },
    {
      "cell_type": "code",
      "source": [
        "df.shape"
      ],
      "metadata": {
        "colab": {
          "base_uri": "https://localhost:8080/"
        },
        "id": "vpgSZLZHSby9",
        "outputId": "d0cbd409-c45d-4de8-e062-9e7dfc49eb96"
      },
      "execution_count": null,
      "outputs": [
        {
          "output_type": "execute_result",
          "data": {
            "text/plain": [
              "(291, 23)"
            ]
          },
          "metadata": {},
          "execution_count": 866
        }
      ]
    },
    {
      "cell_type": "code",
      "source": [
        "df['Remarks'].value_counts()"
      ],
      "metadata": {
        "colab": {
          "base_uri": "https://localhost:8080/"
        },
        "id": "hAmbuqHlYcpM",
        "outputId": "66b44ffd-4854-491d-b894-950ebaa2da7b"
      },
      "execution_count": null,
      "outputs": [
        {
          "output_type": "execute_result",
          "data": {
            "text/plain": [
              "Remarks\n",
              "Issues with the Manager                           145\n",
              "Lack of Growth                                     96\n",
              "More Challenging Job Roles/ Higher designation     31\n",
              "Better Salary                                      19\n",
              "Name: count, dtype: int64"
            ]
          },
          "metadata": {},
          "execution_count": 867
        }
      ]
    },
    {
      "cell_type": "code",
      "source": [
        "df.isna().sum().sort_values(ascending=False)"
      ],
      "metadata": {
        "colab": {
          "base_uri": "https://localhost:8080/"
        },
        "id": "zXunQc7qI8Dz",
        "outputId": "9de854d3-43fa-4643-d886-060aee09f85f"
      },
      "execution_count": null,
      "outputs": [
        {
          "output_type": "execute_result",
          "data": {
            "text/plain": [
              "Location                             2\n",
              "S.No                                 0\n",
              "Monthly Income                       0\n",
              "month2                               0\n",
              "day2                                 0\n",
              "year1                                0\n",
              "month1                               0\n",
              "day1                                 0\n",
              "Remarks                              0\n",
              "Zone                                 0\n",
              "Marital Status                       0\n",
              "Engagement Score (% Satisfaction)    0\n",
              "Last Rating                          0\n",
              "EmpID                                0\n",
              "Age                                  0\n",
              "Education                            0\n",
              "Gender                               0\n",
              "Tenure                               0\n",
              "Attrition                            0\n",
              "Grade                                0\n",
              "Designation                          0\n",
              "Emp Name                             0\n",
              "year2                                0\n",
              "dtype: int64"
            ]
          },
          "metadata": {},
          "execution_count": 868
        }
      ]
    },
    {
      "cell_type": "code",
      "source": [
        "df.info()"
      ],
      "metadata": {
        "colab": {
          "base_uri": "https://localhost:8080/"
        },
        "id": "fM9V7t0iGBwb",
        "outputId": "5cb04ef9-ad64-407d-c216-734d4330306f"
      },
      "execution_count": null,
      "outputs": [
        {
          "output_type": "stream",
          "name": "stdout",
          "text": [
            "<class 'pandas.core.frame.DataFrame'>\n",
            "Index: 291 entries, 0 to 326\n",
            "Data columns (total 23 columns):\n",
            " #   Column                             Non-Null Count  Dtype \n",
            "---  ------                             --------------  ----- \n",
            " 0   S.No                               291 non-null    int64 \n",
            " 1   EmpID                              291 non-null    object\n",
            " 2   Emp Name                           291 non-null    object\n",
            " 3   Designation                        291 non-null    object\n",
            " 4   Grade                              291 non-null    object\n",
            " 5   Attrition                          291 non-null    object\n",
            " 6   Location                           289 non-null    object\n",
            " 7   Tenure                             291 non-null    object\n",
            " 8   Gender                             291 non-null    object\n",
            " 9   Education                          291 non-null    object\n",
            " 10  Age                                291 non-null    int64 \n",
            " 11  Last Rating                        291 non-null    int64 \n",
            " 12  Monthly Income                     291 non-null    int64 \n",
            " 13  Engagement Score (% Satisfaction)  291 non-null    object\n",
            " 14  Marital Status                     291 non-null    object\n",
            " 15  Zone                               291 non-null    object\n",
            " 16  Remarks                            291 non-null    object\n",
            " 17  day1                               291 non-null    int32 \n",
            " 18  month1                             291 non-null    object\n",
            " 19  year1                              291 non-null    int32 \n",
            " 20  day2                               291 non-null    int32 \n",
            " 21  month2                             291 non-null    object\n",
            " 22  year2                              291 non-null    int32 \n",
            "dtypes: int32(4), int64(4), object(15)\n",
            "memory usage: 50.0+ KB\n"
          ]
        }
      ]
    },
    {
      "cell_type": "code",
      "source": [],
      "metadata": {
        "id": "2QwiJUdrMDzk"
      },
      "execution_count": null,
      "outputs": []
    },
    {
      "cell_type": "code",
      "source": [
        "df.drop(['S.No'], axis=1, inplace=True)"
      ],
      "metadata": {
        "id": "gKLlFV8hGJ6W"
      },
      "execution_count": null,
      "outputs": []
    },
    {
      "cell_type": "code",
      "source": [
        "import pandas as pd\n",
        "from sklearn.preprocessing import LabelEncoder\n",
        "\n",
        "\n",
        "object_columns = df.select_dtypes(include=['object']).columns\n",
        "le = LabelEncoder()\n",
        "for col in object_columns:\n",
        "    mode_value = df[col].mode()[0]\n",
        "    df[col] = df[col].fillna(mode_value)\n",
        "\n",
        "\n",
        "for col in object_columns:\n",
        "    df[col] = le.fit_transform(df[col])\n",
        "\n",
        "df.isna().sum()"
      ],
      "metadata": {
        "colab": {
          "base_uri": "https://localhost:8080/"
        },
        "id": "gxTX8yf1GU6j",
        "outputId": "02195f5d-1281-4d3e-c0a9-1de7b27693c4"
      },
      "execution_count": null,
      "outputs": [
        {
          "output_type": "execute_result",
          "data": {
            "text/plain": [
              "EmpID                                0\n",
              "Emp Name                             0\n",
              "Designation                          0\n",
              "Grade                                0\n",
              "Attrition                            0\n",
              "Location                             0\n",
              "Tenure                               0\n",
              "Gender                               0\n",
              "Education                            0\n",
              "Age                                  0\n",
              "Last Rating                          0\n",
              "Monthly Income                       0\n",
              "Engagement Score (% Satisfaction)    0\n",
              "Marital Status                       0\n",
              "Zone                                 0\n",
              "Remarks                              0\n",
              "day1                                 0\n",
              "month1                               0\n",
              "year1                                0\n",
              "day2                                 0\n",
              "month2                               0\n",
              "year2                                0\n",
              "dtype: int64"
            ]
          },
          "metadata": {},
          "execution_count": 871
        }
      ]
    },
    {
      "cell_type": "code",
      "source": [
        "df.info()"
      ],
      "metadata": {
        "colab": {
          "base_uri": "https://localhost:8080/"
        },
        "id": "cVnjnlIBGdfR",
        "outputId": "144daa16-6557-4729-efa5-d0e3bbacf5c3"
      },
      "execution_count": null,
      "outputs": [
        {
          "output_type": "stream",
          "name": "stdout",
          "text": [
            "<class 'pandas.core.frame.DataFrame'>\n",
            "Index: 291 entries, 0 to 326\n",
            "Data columns (total 22 columns):\n",
            " #   Column                             Non-Null Count  Dtype\n",
            "---  ------                             --------------  -----\n",
            " 0   EmpID                              291 non-null    int64\n",
            " 1   Emp Name                           291 non-null    int64\n",
            " 2   Designation                        291 non-null    int64\n",
            " 3   Grade                              291 non-null    int64\n",
            " 4   Attrition                          291 non-null    int64\n",
            " 5   Location                           291 non-null    int64\n",
            " 6   Tenure                             291 non-null    int64\n",
            " 7   Gender                             291 non-null    int64\n",
            " 8   Education                          291 non-null    int64\n",
            " 9   Age                                291 non-null    int64\n",
            " 10  Last Rating                        291 non-null    int64\n",
            " 11  Monthly Income                     291 non-null    int64\n",
            " 12  Engagement Score (% Satisfaction)  291 non-null    int64\n",
            " 13  Marital Status                     291 non-null    int64\n",
            " 14  Zone                               291 non-null    int64\n",
            " 15  Remarks                            291 non-null    int64\n",
            " 16  day1                               291 non-null    int32\n",
            " 17  month1                             291 non-null    int64\n",
            " 18  year1                              291 non-null    int32\n",
            " 19  day2                               291 non-null    int32\n",
            " 20  month2                             291 non-null    int64\n",
            " 21  year2                              291 non-null    int32\n",
            "dtypes: int32(4), int64(18)\n",
            "memory usage: 47.7 KB\n"
          ]
        }
      ]
    },
    {
      "cell_type": "code",
      "source": [
        "# corr_matrix = df.corr()\n",
        "# corr = np.array(corr_matrix)[15]\n",
        "# cols= df.columns\n",
        "# columns_to_drop = []\n",
        "\n",
        "# for i in range(len(cols)):\n",
        "#     print(cols[i], \"-->\", np.round(corr[i], 3))\n",
        "#     if np.isnan(corr[i]) or np.abs(corr[i]) < 0.1:\n",
        "#         columns_to_drop.append(cols[i])\n",
        "\n",
        "# df.drop(columns_to_drop, axis=1, inplace=True)\n",
        "# X = df.drop(columns=['Remarks']).values\n",
        "# y= df['Remarks'].values\n"
      ],
      "metadata": {
        "id": "x2pMr_1KGgVr"
      },
      "execution_count": null,
      "outputs": []
    },
    {
      "cell_type": "code",
      "source": [
        "df.columns"
      ],
      "metadata": {
        "colab": {
          "base_uri": "https://localhost:8080/"
        },
        "id": "pBSv-BLjTFIv",
        "outputId": "ba875e4a-11bf-462d-f45f-b02280d6eeec"
      },
      "execution_count": null,
      "outputs": [
        {
          "output_type": "execute_result",
          "data": {
            "text/plain": [
              "Index(['EmpID', 'Emp Name', 'Designation', 'Grade', 'Attrition ', 'Location',\n",
              "       'Tenure', 'Gender', 'Education', 'Age', 'Last Rating', 'Monthly Income',\n",
              "       'Engagement Score (% Satisfaction)', 'Marital Status', 'Zone',\n",
              "       'Remarks', 'day1', 'month1', 'year1', 'day2', 'month2', 'year2'],\n",
              "      dtype='object')"
            ]
          },
          "metadata": {},
          "execution_count": 874
        }
      ]
    },
    {
      "cell_type": "code",
      "source": [
        "def remove_outliers_iqr(df):\n",
        "    Q1 = df.quantile(0.25)\n",
        "    Q3 = df.quantile(0.75)\n",
        "    IQR = Q3 - Q1\n",
        "    lower_bound = Q1 - 1.5 * IQR\n",
        "    upper_bound = Q3 + 1.5 * IQR\n",
        "    return df[~((df < lower_bound) | (df > upper_bound)).any(axis=1)]\n",
        "\n",
        "\n",
        "df= remove_outliers_iqr(df)\n"
      ],
      "metadata": {
        "id": "dcNiSKYvLHF9"
      },
      "execution_count": null,
      "outputs": []
    },
    {
      "cell_type": "code",
      "source": [
        "# from sklearn.preprocessing import StandardScaler\n",
        "# X = df.drop(columns=['Remarks']).values\n",
        "# y= df['Remarks'].values\n",
        "\n",
        "# sc=StandardScaler()\n",
        "# X_scaled=sc.fit_transform(X)\n",
        "# y_scaled=sc.fit_transform(y.reshape(-1,1))\n",
        "# # X=X_scaled"
      ],
      "metadata": {
        "id": "MyNvl-0GLdV8"
      },
      "execution_count": null,
      "outputs": []
    },
    {
      "cell_type": "code",
      "source": [
        "df.columns"
      ],
      "metadata": {
        "colab": {
          "base_uri": "https://localhost:8080/"
        },
        "id": "mKWO1l2SG0t0",
        "outputId": "96ef3c4c-d1c0-4ac9-f9fc-9cfe86e022df"
      },
      "execution_count": null,
      "outputs": [
        {
          "output_type": "execute_result",
          "data": {
            "text/plain": [
              "Index(['EmpID', 'Emp Name', 'Designation', 'Grade', 'Attrition ', 'Location',\n",
              "       'Tenure', 'Gender', 'Education', 'Age', 'Last Rating', 'Monthly Income',\n",
              "       'Engagement Score (% Satisfaction)', 'Marital Status', 'Zone',\n",
              "       'Remarks', 'day1', 'month1', 'year1', 'day2', 'month2', 'year2'],\n",
              "      dtype='object')"
            ]
          },
          "metadata": {},
          "execution_count": 877
        }
      ]
    },
    {
      "cell_type": "code",
      "source": [
        "import warnings\n",
        "warnings.filterwarnings('ignore')"
      ],
      "metadata": {
        "id": "ioAtrteAJVZI"
      },
      "execution_count": null,
      "outputs": []
    },
    {
      "cell_type": "code",
      "source": [
        "import numpy as np\n",
        "import matplotlib.pyplot as plt\n",
        "from sklearn.model_selection import RepeatedStratifiedKFold\n",
        "from sklearn.neighbors import KNeighborsClassifier\n",
        "from sklearn.metrics import accuracy_score, precision_score, recall_score, f1_score\n",
        "\n",
        "k_values = range(1, 21)  # Test k from 1 to 20\n",
        "\n",
        "# Initialize lists to store average scores for each k\n",
        "avg_accuracy_list = []\n",
        "avg_precision_list = []\n",
        "avg_recall_list = []\n",
        "avg_f1_list = []\n",
        "\n",
        "# Repeated Stratified K-Fold cross-validation\n",
        "kf = RepeatedStratifiedKFold(n_splits=3, n_repeats=2, random_state=33)\n",
        "\n",
        "for k in k_values:\n",
        "    accuracy_scores = []\n",
        "    precision_scores = []\n",
        "    recall_scores = []\n",
        "    f1_scores = []\n",
        "\n",
        "    for train_index, test_index in kf.split(X, y):\n",
        "        X_train, X_test = X[train_index], X[test_index]\n",
        "        y_train, y_test = y[train_index], y[test_index]\n",
        "\n",
        "        knn_classifier = KNeighborsClassifier(n_neighbors=k).fit(X_train, y_train)\n",
        "\n",
        "        y_pred = knn_classifier.predict(X_test)\n",
        "\n",
        "        accuracy = accuracy_score(y_test, y_pred)\n",
        "        precision = precision_score(y_test, y_pred, average='weighted')\n",
        "        recall = recall_score(y_test, y_pred, average='weighted')\n",
        "        f1 = f1_score(y_test, y_pred, average='weighted')\n",
        "\n",
        "        accuracy_scores.append(accuracy)\n",
        "        precision_scores.append(precision)\n",
        "        recall_scores.append(recall)\n",
        "        f1_scores.append(f1)\n",
        "\n",
        "    avg_accuracy = np.mean(accuracy_scores)\n",
        "    avg_precision = np.mean(precision_scores)\n",
        "    avg_recall = np.mean(recall_scores)\n",
        "    avg_f1 = np.mean(f1_scores)\n",
        "\n",
        "    avg_accuracy_list.append(avg_accuracy)\n",
        "    avg_precision_list.append(avg_precision)\n",
        "    avg_recall_list.append(avg_recall)\n",
        "    avg_f1_list.append(avg_f1)\n",
        "\n",
        "# Find the best k based on accuracy\n",
        "best_k = k_values[np.argmax(avg_accuracy_list)]\n",
        "best_accuracy = max(avg_accuracy_list)\n",
        "best_precision = avg_precision_list[np.argmax(avg_accuracy_list)]\n",
        "best_recall = avg_recall_list[np.argmax(avg_accuracy_list)]\n",
        "best_f1 = avg_f1_list[np.argmax(avg_accuracy_list)]\n",
        "\n",
        "print(\"Best k value based on Accuracy:\", best_k)\n",
        "print(\"Metrics for Classification using K-Nearest Neighbors with best k:\")\n",
        "print(f\"Accuracy: {best_accuracy}\")\n",
        "print(f\"Precision: {best_precision}\")\n",
        "print(f\"Recall: {best_recall}\")\n",
        "print(f\"F1-score: {best_f1}\")\n",
        "\n",
        "# Optionally, plot the metrics vs k values\n",
        "plt.figure(figsize=(10, 6))\n",
        "plt.plot(k_values, avg_accuracy_list, marker='o', linestyle='-', color='b', label='Accuracy')\n",
        "plt.plot(k_values, avg_precision_list, marker='s', linestyle='--', color='g', label='Precision')\n",
        "plt.plot(k_values, avg_recall_list, marker='^', linestyle='-.', color='r', label='Recall')\n",
        "plt.plot(k_values, avg_f1_list, marker='x', linestyle=':', color='purple', label='F1-score')\n",
        "plt.xlabel('k values')\n",
        "plt.ylabel('Score')\n",
        "plt.title('Metrics vs k values for K-Nearest Neighbors')\n",
        "plt.xticks(k_values)\n",
        "plt.legend()\n",
        "plt.grid(True)\n",
        "plt.tight_layout()\n",
        "plt.show()\n"
      ],
      "metadata": {
        "colab": {
          "base_uri": "https://localhost:8080/",
          "height": 711
        },
        "id": "aQTWqukOOuvF",
        "outputId": "a1864fc9-fc27-4d29-9252-315d26f1617e"
      },
      "execution_count": null,
      "outputs": [
        {
          "output_type": "stream",
          "name": "stdout",
          "text": [
            "Best k value based on Accuracy: 11\n",
            "Metrics for Classification using K-Nearest Neighbors with best k:\n",
            "Accuracy: 0.6494252873563219\n",
            "Precision: 0.6549606371696464\n",
            "Recall: 0.6494252873563219\n",
            "F1-score: 0.5700662049168428\n"
          ]
        },
        {
          "output_type": "display_data",
          "data": {
            "text/plain": [
              "<Figure size 1000x600 with 1 Axes>"
            ],
            "image/png": "[encoded data removed]"
          },
          "metadata": {}
        }
      ]
    }
  ]
}